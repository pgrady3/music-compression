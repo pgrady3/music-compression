{
  "nbformat": 4,
  "nbformat_minor": 0,
  "metadata": {
    "kernelspec": {
      "name": "python3",
      "display_name": "Python 3"
    },
    "language_info": {
      "codemirror_mode": {
        "name": "ipython",
        "version": 3
      },
      "file_extension": ".py",
      "mimetype": "text/x-python",
      "name": "python",
      "nbconvert_exporter": "python",
      "pygments_lexer": "ipython3",
      "version": "3.7.4"
    },
    "latex_envs": {
      "LaTeX_envs_menu_present": true,
      "autoclose": false,
      "autocomplete": true,
      "bibliofile": "biblio.bib",
      "cite_by": "apalike",
      "current_citInitial": 1,
      "eqLabelWithNumbers": true,
      "eqNumInitial": 1,
      "hotkeys": {
        "equation": "Ctrl-E",
        "itemize": "Ctrl-I"
      },
      "labels_anchors": false,
      "latex_user_defs": false,
      "report_style_numbering": false,
      "user_envs_cfg": false
    },
    "toc": {
      "base_numbering": 1,
      "nav_menu": {},
      "number_sections": true,
      "sideBar": true,
      "skip_h1_title": false,
      "title_cell": "Table of Contents",
      "title_sidebar": "Contents",
      "toc_cell": false,
      "toc_position": {},
      "toc_section_display": true,
      "toc_window_display": false
    },
    "colab": {
      "name": "cnn_classifier.ipynb",
      "provenance": [],
      "collapsed_sections": [],
      "toc_visible": true,
      "machine_shape": "hm"
    },
    "accelerator": "GPU"
  },
  "cells": [
    {
      "cell_type": "code",
      "metadata": {
        "id": "0V1HCmGAsth-",
        "colab_type": "code",
        "outputId": "638740bd-8464-4648-c9bb-e37c64d9952b",
        "colab": {
          "base_uri": "https://localhost:8080/",
          "height": 125
        }
      },
      "source": [
        "from google.colab import drive\n",
        "drive.mount('/content/gdrive/')"
      ],
      "execution_count": 0,
      "outputs": [
        {
          "output_type": "stream",
          "text": [
            "Go to this URL in a browser: https://accounts.google.com/o/oauth2/auth?client_id=947318989803-6bn6qk8qdgf4n4g3pfee6491hc0brc4i.apps.googleusercontent.com&redirect_uri=urn%3Aietf%3Awg%3Aoauth%3A2.0%3Aoob&scope=email%20https%3A%2F%2Fwww.googleapis.com%2Fauth%2Fdocs.test%20https%3A%2F%2Fwww.googleapis.com%2Fauth%2Fdrive%20https%3A%2F%2Fwww.googleapis.com%2Fauth%2Fdrive.photos.readonly%20https%3A%2F%2Fwww.googleapis.com%2Fauth%2Fpeopleapi.readonly&response_type=code\n",
            "\n",
            "Enter your authorization code:\n",
            "··········\n",
            "Mounted at /content/gdrive/\n"
          ],
          "name": "stdout"
        }
      ]
    },
    {
      "cell_type": "code",
      "metadata": {
        "id": "_CR-No-ss6ky",
        "colab_type": "code",
        "colab": {}
      },
      "source": [
        "!cp -r \"/content/gdrive/My Drive/Colab Notebooks/music-compression/\" ./"
      ],
      "execution_count": 0,
      "outputs": []
    },
    {
      "cell_type": "code",
      "metadata": {
        "id": "-NQVpdc0SeEK",
        "colab_type": "code",
        "colab": {}
      },
      "source": [
        "FILEID = '1Yn3Gjs2GedY45ZHB5NUZsvVkU8jV3API'"
      ],
      "execution_count": 0,
      "outputs": []
    },
    {
      "cell_type": "code",
      "metadata": {
        "id": "MtF_O-R3Q1M1",
        "colab_type": "code",
        "outputId": "1416cee0-d16d-40bd-c4dd-5827e1b97ab2",
        "colab": {
          "base_uri": "https://localhost:8080/",
          "height": 338
        }
      },
      "source": [
        "!wget --load-cookies /tmp/cookies.txt \"https://docs.google.com/uc?export=download&confirm=$(wget --quiet --save-cookies /tmp/cookies.txt --keep-session-cookies --no-check-certificate 'https://docs.google.com/uc?export=download&id=1Yn3Gjs2GedY45ZHB5NUZsvVkU8jV3API' -O- | sed -rn 's/.*confirm=([0-9A-Za-z_]+).*/\\1\\n/p')&id=1Yn3Gjs2GedY45ZHB5NUZsvVkU8jV3API\" -O data.zip && rm -rf /tmp/cookies.txt"
      ],
      "execution_count": 0,
      "outputs": [
        {
          "output_type": "stream",
          "text": [
            "--2019-11-13 15:00:24--  https://docs.google.com/uc?export=download&confirm=gOqb&id=1Yn3Gjs2GedY45ZHB5NUZsvVkU8jV3API\n",
            "Resolving docs.google.com (docs.google.com)... 64.233.189.101, 64.233.189.100, 64.233.189.138, ...\n",
            "Connecting to docs.google.com (docs.google.com)|64.233.189.101|:443... connected.\n",
            "HTTP request sent, awaiting response... 302 Moved Temporarily\n",
            "Location: https://doc-0g-4s-docs.googleusercontent.com/docs/securesc/ha0ro937gcuc7l7deffksulhg5h7mbp1/n4fbhcaum2719kolemsokp4h4eh5ua9i/1573653600000/00405666016553047732/*/1Yn3Gjs2GedY45ZHB5NUZsvVkU8jV3API?e=download [following]\n",
            "Warning: wildcards not supported in HTTP.\n",
            "--2019-11-13 15:00:24--  https://doc-0g-4s-docs.googleusercontent.com/docs/securesc/ha0ro937gcuc7l7deffksulhg5h7mbp1/n4fbhcaum2719kolemsokp4h4eh5ua9i/1573653600000/00405666016553047732/*/1Yn3Gjs2GedY45ZHB5NUZsvVkU8jV3API?e=download\n",
            "Resolving doc-0g-4s-docs.googleusercontent.com (doc-0g-4s-docs.googleusercontent.com)... 74.125.204.132, 2404:6800:4008:c04::84\n",
            "Connecting to doc-0g-4s-docs.googleusercontent.com (doc-0g-4s-docs.googleusercontent.com)|74.125.204.132|:443... connected.\n",
            "HTTP request sent, awaiting response... 200 OK\n",
            "Length: unspecified [application/zip]\n",
            "Saving to: ‘data.zip’\n",
            "\n",
            "data.zip                [   <=>              ]   6.92G  46.9MB/s    in 58s     \n",
            "\n",
            "2019-11-13 15:01:22 (123 MB/s) - ‘data.zip’ saved [7435666981]\n",
            "\n"
          ],
          "name": "stdout"
        }
      ]
    },
    {
      "cell_type": "code",
      "metadata": {
        "id": "bHt-UKaoT5oN",
        "colab_type": "code",
        "colab": {}
      },
      "source": [
        "!unzip -qq data.zip -d /content/music-compression/data/sample/fma_small/"
      ],
      "execution_count": 0,
      "outputs": []
    },
    {
      "cell_type": "code",
      "metadata": {
        "id": "ZbVCt-xmEtgf",
        "colab_type": "code",
        "outputId": "9c5ac81f-c1c8-4a68-cf7e-0e49ea6a4fd0",
        "colab": {
          "base_uri": "https://localhost:8080/",
          "height": 35
        }
      },
      "source": [
        "%cd music-compression"
      ],
      "execution_count": 0,
      "outputs": [
        {
          "output_type": "stream",
          "text": [
            "/content/music-compression\n"
          ],
          "name": "stdout"
        }
      ]
    },
    {
      "cell_type": "code",
      "metadata": {
        "id": "E_agYuxTS5BD",
        "colab_type": "code",
        "colab": {}
      },
      "source": [
        "!rm 'data/sample/fma_small/data/train/108925.mp3'\n",
        "!rm 'data/sample/fma_small/data/train/133297.mp3'\n",
        "!rm 'data/sample/fma_small/data/train/098567.mp3'\n",
        "!rm 'data/sample/fma_small/data/train/099134.mp3'"
      ],
      "execution_count": 0,
      "outputs": []
    },
    {
      "cell_type": "code",
      "metadata": {
        "id": "eH8OMXVRtOWL",
        "colab_type": "code",
        "outputId": "2cc08fad-2a01-431a-ff02-7d81ada727b2",
        "colab": {
          "base_uri": "https://localhost:8080/",
          "height": 108
        }
      },
      "source": [
        "!pip install pydub"
      ],
      "execution_count": 0,
      "outputs": [
        {
          "output_type": "stream",
          "text": [
            "Collecting pydub\n",
            "  Downloading https://files.pythonhosted.org/packages/79/db/eaf620b73a1eec3c8c6f8f5b0b236a50f9da88ad57802154b7ba7664d0b8/pydub-0.23.1-py2.py3-none-any.whl\n",
            "Installing collected packages: pydub\n",
            "Successfully installed pydub-0.23.1\n"
          ],
          "name": "stdout"
        }
      ]
    },
    {
      "cell_type": "code",
      "metadata": {
        "id": "pt1V3r6isoN3",
        "colab_type": "code",
        "colab": {}
      },
      "source": [
        "import torch\n",
        "import numpy as np\n",
        "\n",
        "from runner.train_classifier import TrainerClassifier\n",
        "\n",
        "# for auto-reloading external modules\n",
        "# see http://stackoverflow.com/questions/1907993/autoreload-of-modules-in-ipython\n",
        "%load_ext autoreload\n",
        "%autoreload 2"
      ],
      "execution_count": 0,
      "outputs": []
    },
    {
      "cell_type": "code",
      "metadata": {
        "id": "_SD2PFG39dj_",
        "colab_type": "code",
        "colab": {}
      },
      "source": [
        "#!rm 'data/sample/fma_xs/train/099134.mp3'"
      ],
      "execution_count": 0,
      "outputs": []
    },
    {
      "cell_type": "code",
      "metadata": {
        "id": "liajTJ_jb8dK",
        "colab_type": "code",
        "colab": {}
      },
      "source": [
        "#from utils.data_helper import stat_all_files\n",
        "#stat_all_files('data/sample/fma_xs/')"
      ],
      "execution_count": 0,
      "outputs": []
    },
    {
      "cell_type": "code",
      "metadata": {
        "id": "P-zoYRHkhzew",
        "colab_type": "code",
        "colab": {}
      },
      "source": [
        "cuda_flag = True"
      ],
      "execution_count": 0,
      "outputs": []
    },
    {
      "cell_type": "code",
      "metadata": {
        "id": "9pk95GjNh1MA",
        "colab_type": "code",
        "outputId": "1c6e83a1-500a-4a05-8f27-47fc3e960660",
        "colab": {
          "base_uri": "https://localhost:8080/",
          "height": 247
        }
      },
      "source": [
        "trainer = TrainerClassifier('data/sample/fma_small/data',\n",
        "                  '/content/gdrive/My Drive/Colab Notebooks/music-compression/model_checkpoints/cnn_classifier_v3', \n",
        "                  batch_size=200, \n",
        "                  load_from_disk=False, \n",
        "                  cuda=cuda_flag)"
      ],
      "execution_count": 0,
      "outputs": [
        {
          "output_type": "stream",
          "text": [
            "copying params from  encoder_model.conv1.weight\n",
            "copying params from  encoder_model.conv1.bias\n",
            "copying params from  encoder_model.conv2.weight\n",
            "copying params from  encoder_model.conv2.bias\n",
            "Adam (\n",
            "Parameter Group 0\n",
            "    amsgrad: False\n",
            "    betas: (0.9, 0.999)\n",
            "    eps: 1e-08\n",
            "    initial_lr: 0.001\n",
            "    lr: 0.001\n",
            "    weight_decay: 1e-05\n",
            ")\n"
          ],
          "name": "stdout"
        }
      ]
    },
    {
      "cell_type": "code",
      "metadata": {
        "colab_type": "code",
        "id": "IlG-dfnbpNjJ",
        "outputId": "d8e886e0-d4b5-4bc1-be4a-a9fa5fd27ee2",
        "colab": {
          "base_uri": "https://localhost:8080/",
          "height": 654
        }
      },
      "source": [
        "trainer.train(num_epochs=50)"
      ],
      "execution_count": 0,
      "outputs": [
        {
          "output_type": "stream",
          "text": [
            "Epoch:1, Loss:1.8905\n",
            "Epoch:2, Loss:1.8633\n",
            "Epoch:3, Loss:1.9398\n",
            "Epoch:4, Loss:1.6400\n",
            "Epoch:5, Loss:1.6288\n",
            "Epoch:6, Loss:1.8151\n",
            "Epoch:7, Loss:1.6158\n",
            "Epoch:8, Loss:1.7563\n",
            "Epoch:9, Loss:1.7918\n",
            "Epoch:10, Loss:1.8050\n",
            "Epoch:11, Loss:1.6686\n",
            "Epoch:12, Loss:1.6343\n",
            "Epoch:13, Loss:1.6781\n",
            "Epoch:14, Loss:1.7082\n",
            "Epoch:15, Loss:1.6295\n",
            "Epoch:16, Loss:1.5941\n",
            "Epoch:17, Loss:1.5503\n",
            "Epoch:18, Loss:1.8121\n",
            "Epoch:19, Loss:1.4787\n",
            "Epoch:20, Loss:1.6811\n",
            "Epoch:21, Loss:1.5424\n",
            "Epoch:22, Loss:1.7588\n",
            "Epoch:23, Loss:1.6405\n",
            "Epoch:24, Loss:1.6526\n",
            "Epoch:25, Loss:1.7202\n",
            "Epoch:26, Loss:1.4210\n",
            "Epoch:27, Loss:1.8205\n",
            "Epoch:28, Loss:1.6587\n",
            "Epoch:29, Loss:1.6382\n",
            "Epoch:30, Loss:1.5670\n",
            "Epoch:31, Loss:1.6095\n",
            "Epoch:32, Loss:1.5332\n",
            "Epoch:33, Loss:1.5836\n",
            "Epoch:34, Loss:1.5211\n",
            "Epoch:35, Loss:1.6169\n",
            "Epoch:36, Loss:1.7328\n"
          ],
          "name": "stdout"
        }
      ]
    },
    {
      "cell_type": "code",
      "metadata": {
        "id": "kQ72Sf8Kspkb",
        "colab_type": "code",
        "colab": {}
      },
      "source": [
        "trainer.plot_loss_history(mode='train')\n",
        "trainer.plot_loss_history(mode='test')"
      ],
      "execution_count": 0,
      "outputs": []
    },
    {
      "cell_type": "code",
      "metadata": {
        "id": "gWCFy4EkgYvi",
        "colab_type": "code",
        "colab": {}
      },
      "source": [
        "accuracy = trainer.get_accuracy()\n",
        "print('Accuracy = {}'.format(accuracy))"
      ],
      "execution_count": 0,
      "outputs": []
    }
  ]
}