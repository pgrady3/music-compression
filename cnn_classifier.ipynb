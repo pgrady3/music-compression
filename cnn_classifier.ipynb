{
  "nbformat": 4,
  "nbformat_minor": 0,
  "metadata": {
    "kernelspec": {
      "name": "python3",
      "display_name": "Python 3"
    },
    "language_info": {
      "codemirror_mode": {
        "name": "ipython",
        "version": 3
      },
      "file_extension": ".py",
      "mimetype": "text/x-python",
      "name": "python",
      "nbconvert_exporter": "python",
      "pygments_lexer": "ipython3",
      "version": "3.7.4"
    },
    "latex_envs": {
      "LaTeX_envs_menu_present": true,
      "autoclose": false,
      "autocomplete": true,
      "bibliofile": "biblio.bib",
      "cite_by": "apalike",
      "current_citInitial": 1,
      "eqLabelWithNumbers": true,
      "eqNumInitial": 1,
      "hotkeys": {
        "equation": "Ctrl-E",
        "itemize": "Ctrl-I"
      },
      "labels_anchors": false,
      "latex_user_defs": false,
      "report_style_numbering": false,
      "user_envs_cfg": false
    },
    "toc": {
      "base_numbering": 1,
      "nav_menu": {},
      "number_sections": true,
      "sideBar": true,
      "skip_h1_title": false,
      "title_cell": "Table of Contents",
      "title_sidebar": "Contents",
      "toc_cell": false,
      "toc_position": {},
      "toc_section_display": true,
      "toc_window_display": false
    },
    "colab": {
      "name": "cnn_classifier.ipynb",
      "provenance": [],
      "collapsed_sections": [],
      "machine_shape": "hm"
    },
    "accelerator": "GPU"
  },
  "cells": [
    {
      "cell_type": "code",
      "metadata": {
        "id": "0V1HCmGAsth-",
        "colab_type": "code",
        "outputId": "bc901aab-f041-4136-eade-2fb006f12d0f",
        "colab": {
          "base_uri": "https://localhost:8080/",
          "height": 35
        }
      },
      "source": [
        "from google.colab import drive\n",
        "drive.mount('/content/gdrive/')"
      ],
      "execution_count": 9,
      "outputs": [
        {
          "output_type": "stream",
          "text": [
            "Drive already mounted at /content/gdrive/; to attempt to forcibly remount, call drive.mount(\"/content/gdrive/\", force_remount=True).\n"
          ],
          "name": "stdout"
        }
      ]
    },
    {
      "cell_type": "code",
      "metadata": {
        "id": "_CR-No-ss6ky",
        "colab_type": "code",
        "colab": {}
      },
      "source": [
        "!cp -r \"/content/gdrive/My Drive/Colab Notebooks/music-compression/\" ./"
      ],
      "execution_count": 0,
      "outputs": []
    },
    {
      "cell_type": "code",
      "metadata": {
        "id": "ZbVCt-xmEtgf",
        "colab_type": "code",
        "outputId": "27af4572-7362-4a2a-c52a-4446e3a354c3",
        "colab": {
          "base_uri": "https://localhost:8080/",
          "height": 34
        }
      },
      "source": [
        "%cd music-compression"
      ],
      "execution_count": 0,
      "outputs": [
        {
          "output_type": "stream",
          "text": [
            "/content/music-compression\n"
          ],
          "name": "stdout"
        }
      ]
    },
    {
      "cell_type": "code",
      "metadata": {
        "id": "eH8OMXVRtOWL",
        "colab_type": "code",
        "outputId": "e8f62d3f-dcc1-4aeb-8957-96a669384b9d",
        "colab": {
          "base_uri": "https://localhost:8080/",
          "height": 105
        }
      },
      "source": [
        "!pip install pydub"
      ],
      "execution_count": 0,
      "outputs": [
        {
          "output_type": "stream",
          "text": [
            "Collecting pydub\n",
            "  Downloading https://files.pythonhosted.org/packages/79/db/eaf620b73a1eec3c8c6f8f5b0b236a50f9da88ad57802154b7ba7664d0b8/pydub-0.23.1-py2.py3-none-any.whl\n",
            "Installing collected packages: pydub\n",
            "Successfully installed pydub-0.23.1\n"
          ],
          "name": "stdout"
        }
      ]
    },
    {
      "cell_type": "code",
      "metadata": {
        "id": "pt1V3r6isoN3",
        "colab_type": "code",
        "outputId": "cdbd9f3d-27c9-4262-9561-e8fa1bf620fa",
        "colab": {
          "base_uri": "https://localhost:8080/",
          "height": 51
        }
      },
      "source": [
        "import torch\n",
        "import numpy as np\n",
        "\n",
        "from runner.train_classifier import TrainerClassifier\n",
        "\n",
        "# for auto-reloading external modules\n",
        "# see http://stackoverflow.com/questions/1907993/autoreload-of-modules-in-ipython\n",
        "%load_ext autoreload\n",
        "%autoreload 2"
      ],
      "execution_count": 0,
      "outputs": [
        {
          "output_type": "stream",
          "text": [
            "The autoreload extension is already loaded. To reload it, use:\n",
            "  %reload_ext autoreload\n"
          ],
          "name": "stdout"
        }
      ]
    },
    {
      "cell_type": "code",
      "metadata": {
        "id": "_SD2PFG39dj_",
        "colab_type": "code",
        "colab": {}
      },
      "source": [
        "#!rm 'data/sample/fma_xs/train/099134.mp3'"
      ],
      "execution_count": 0,
      "outputs": []
    },
    {
      "cell_type": "code",
      "metadata": {
        "id": "liajTJ_jb8dK",
        "colab_type": "code",
        "colab": {}
      },
      "source": [
        "#from utils.data_helper import stat_all_files\n",
        "#stat_all_files('data/sample/fma_xs/')"
      ],
      "execution_count": 0,
      "outputs": []
    },
    {
      "cell_type": "code",
      "metadata": {
        "id": "P-zoYRHkhzew",
        "colab_type": "code",
        "colab": {}
      },
      "source": [
        "cuda_flag = True"
      ],
      "execution_count": 0,
      "outputs": []
    },
    {
      "cell_type": "code",
      "metadata": {
        "id": "9pk95GjNh1MA",
        "colab_type": "code",
        "colab": {}
      },
      "source": [
        "trainer = TrainerClassifier('data/sample/fma_xs/',\n",
        "                  '/content/gdrive/My Drive/Colab Notebooks/music-compression/model_checkpoints/cnn_classifier_v1', \n",
        "                  batch_size=200, \n",
        "                  load_from_disk=False, \n",
        "                  cuda=cuda_flag)"
      ],
      "execution_count": 0,
      "outputs": []
    },
    {
      "cell_type": "code",
      "metadata": {
        "colab_type": "code",
        "id": "IlG-dfnbpNjJ",
        "outputId": "9f6939b9-3753-43be-c8e3-473d320c1cbb",
        "colab": {
          "base_uri": "https://localhost:8080/",
          "height": 1000
        }
      },
      "source": [
        "trainer.train(num_epochs=1000)"
      ],
      "execution_count": 0,
      "outputs": [
        {
          "output_type": "stream",
          "text": [
            "Epoch:1, Loss:2.0830\n",
            "Epoch:11, Loss:2.0629\n",
            "Epoch:21, Loss:2.0392\n",
            "Epoch:31, Loss:2.0446\n",
            "Epoch:41, Loss:1.9891\n",
            "Epoch:51, Loss:1.9520\n",
            "Epoch:61, Loss:1.9437\n",
            "Epoch:71, Loss:1.9585\n",
            "Epoch:81, Loss:1.8478\n",
            "Epoch:91, Loss:1.8759\n",
            "Epoch:101, Loss:1.8068\n",
            "Epoch:111, Loss:1.8806\n",
            "Epoch:121, Loss:1.9356\n",
            "Epoch:131, Loss:1.7810\n",
            "Epoch:141, Loss:1.7985\n",
            "Epoch:151, Loss:1.8616\n",
            "Epoch:161, Loss:1.7473\n",
            "Epoch:171, Loss:1.8358\n",
            "Epoch:181, Loss:1.8293\n",
            "Epoch:191, Loss:1.7512\n",
            "Epoch:201, Loss:1.8684\n",
            "Epoch:211, Loss:1.7267\n",
            "Epoch:221, Loss:1.7984\n",
            "Epoch:231, Loss:1.9963\n",
            "Epoch:241, Loss:1.8020\n",
            "Epoch:251, Loss:1.8491\n",
            "Epoch:261, Loss:1.8456\n",
            "Epoch:271, Loss:1.8928\n",
            "Epoch:281, Loss:1.7613\n",
            "Epoch:291, Loss:1.6957\n",
            "Epoch:301, Loss:1.8199\n",
            "Epoch:311, Loss:1.8582\n",
            "Epoch:321, Loss:1.8693\n",
            "Epoch:331, Loss:1.8396\n",
            "Epoch:341, Loss:1.7577\n",
            "Epoch:351, Loss:1.7414\n",
            "Epoch:361, Loss:1.7458\n",
            "Epoch:371, Loss:1.7997\n",
            "Epoch:381, Loss:1.8422\n",
            "Epoch:391, Loss:1.7928\n",
            "Epoch:401, Loss:1.8243\n",
            "Epoch:411, Loss:1.6856\n",
            "Epoch:421, Loss:1.7371\n",
            "Epoch:431, Loss:1.8968\n",
            "Epoch:441, Loss:1.6718\n",
            "Epoch:451, Loss:1.7694\n",
            "Epoch:461, Loss:1.7379\n",
            "Epoch:471, Loss:1.7785\n",
            "Epoch:481, Loss:1.6933\n",
            "Epoch:491, Loss:1.7278\n",
            "Epoch:501, Loss:1.8364\n",
            "Epoch:511, Loss:1.8334\n",
            "Epoch:521, Loss:1.5845\n",
            "Epoch:531, Loss:1.7138\n",
            "Epoch:541, Loss:1.6869\n",
            "Epoch:551, Loss:1.6459\n",
            "Epoch:561, Loss:1.6871\n",
            "Epoch:571, Loss:1.6808\n",
            "Epoch:581, Loss:1.6554\n",
            "Epoch:591, Loss:1.7744\n",
            "Epoch:601, Loss:1.6671\n",
            "Epoch:611, Loss:1.6845\n",
            "Epoch:621, Loss:1.5991\n",
            "Epoch:631, Loss:1.7520\n",
            "Epoch:641, Loss:1.7250\n",
            "Epoch:651, Loss:1.7654\n",
            "Epoch:661, Loss:1.8017\n",
            "Epoch:671, Loss:1.6425\n",
            "Epoch:681, Loss:1.7273\n",
            "Epoch:691, Loss:1.7538\n",
            "Epoch:701, Loss:1.8099\n",
            "Epoch:711, Loss:1.6742\n",
            "Epoch:721, Loss:1.8053\n",
            "Epoch:731, Loss:1.5546\n",
            "Epoch:741, Loss:1.5442\n",
            "Epoch:751, Loss:1.7975\n",
            "Epoch:761, Loss:1.6128\n",
            "Epoch:771, Loss:1.6179\n",
            "Epoch:781, Loss:1.6567\n",
            "Epoch:791, Loss:1.7377\n",
            "Epoch:801, Loss:1.8752\n",
            "Epoch:811, Loss:1.5334\n",
            "Epoch:821, Loss:1.7095\n",
            "Epoch:831, Loss:1.7972\n",
            "Epoch:841, Loss:1.7186\n",
            "Epoch:851, Loss:1.7028\n",
            "Epoch:861, Loss:1.6843\n",
            "Epoch:871, Loss:1.7080\n",
            "Epoch:881, Loss:1.6669\n",
            "Epoch:891, Loss:1.6881\n",
            "Epoch:901, Loss:1.7155\n",
            "Epoch:911, Loss:1.6844\n",
            "Epoch:921, Loss:1.5488\n",
            "Epoch:931, Loss:1.5736\n",
            "Epoch:941, Loss:1.5449\n",
            "Epoch:951, Loss:1.5945\n",
            "Epoch:961, Loss:1.6572\n",
            "Epoch:971, Loss:1.6180\n",
            "Epoch:981, Loss:1.6733\n",
            "Epoch:991, Loss:1.7584\n"
          ],
          "name": "stdout"
        }
      ]
    },
    {
      "cell_type": "code",
      "metadata": {
        "id": "kQ72Sf8Kspkb",
        "colab_type": "code",
        "outputId": "ba913527-6a90-4757-cb1a-0ad15f82cba5",
        "colab": {
          "base_uri": "https://localhost:8080/",
          "height": 514
        }
      },
      "source": [
        "trainer.plot_loss_history(mode='train')\n",
        "trainer.plot_loss_history(mode='test')"
      ],
      "execution_count": 0,
      "outputs": [
        {
          "output_type": "display_data",
          "data": {
            "image/png": "[encoded data removed]",
            "text/plain": [
              "<Figure size 432x288 with 1 Axes>"
            ]
          },
          "metadata": {
            "tags": []
          }
        },
        {
          "output_type": "display_data",
          "data": {
            "image/png": "[encoded data removed]",
            "text/plain": [
              "<Figure size 432x288 with 1 Axes>"
            ]
          },
          "metadata": {
            "tags": []
          }
        }
      ]
    },
    {
      "cell_type": "code",
      "metadata": {
        "id": "gWCFy4EkgYvi",
        "colab_type": "code",
        "outputId": "825cf0e9-3e62-4c0c-b333-9c30b6d9ba3b",
        "colab": {
          "base_uri": "https://localhost:8080/",
          "height": 34
        }
      },
      "source": [
        "accuracy = trainer.get_accuracy()\n",
        "print('Accuracy = {}'.format(accuracy))"
      ],
      "execution_count": 0,
      "outputs": [
        {
          "output_type": "stream",
          "text": [
            "Accuracy = 0.2945054945054945\n"
          ],
          "name": "stdout"
        }
      ]
    }
  ]
}