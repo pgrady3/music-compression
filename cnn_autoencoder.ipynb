{
  "nbformat": 4,
  "nbformat_minor": 0,
  "metadata": {
    "kernelspec": {
      "name": "python3",
      "display_name": "Python 3"
    },
    "language_info": {
      "codemirror_mode": {
        "name": "ipython",
        "version": 3
      },
      "file_extension": ".py",
      "mimetype": "text/x-python",
      "name": "python",
      "nbconvert_exporter": "python",
      "pygments_lexer": "ipython3",
      "version": "3.7.4"
    },
    "latex_envs": {
      "LaTeX_envs_menu_present": true,
      "autoclose": false,
      "autocomplete": true,
      "bibliofile": "biblio.bib",
      "cite_by": "apalike",
      "current_citInitial": 1,
      "eqLabelWithNumbers": true,
      "eqNumInitial": 1,
      "hotkeys": {
        "equation": "Ctrl-E",
        "itemize": "Ctrl-I"
      },
      "labels_anchors": false,
      "latex_user_defs": false,
      "report_style_numbering": false,
      "user_envs_cfg": false
    },
    "toc": {
      "base_numbering": 1,
      "nav_menu": {},
      "number_sections": true,
      "sideBar": true,
      "skip_h1_title": false,
      "title_cell": "Table of Contents",
      "title_sidebar": "Contents",
      "toc_cell": false,
      "toc_position": {},
      "toc_section_display": true,
      "toc_window_display": false
    },
    "colab": {
      "name": "cnn_scratchpad.ipynb",
      "provenance": [],
      "collapsed_sections": [],
      "machine_shape": "hm"
    },
    "accelerator": "GPU"
  },
  "cells": [
    {
      "cell_type": "code",
      "metadata": {
        "id": "0V1HCmGAsth-",
        "colab_type": "code",
        "outputId": "00e881bb-c2dc-45f2-cf94-92639a41207b",
        "colab": {
          "base_uri": "https://localhost:8080/",
          "height": 121
        }
      },
      "source": [
        "from google.colab import drive\n",
        "drive.mount('/content/gdrive/')"
      ],
      "execution_count": 0,
      "outputs": [
        {
          "output_type": "stream",
          "text": [
            "Go to this URL in a browser: https://accounts.google.com/o/oauth2/auth?client_id=947318989803-6bn6qk8qdgf4n4g3pfee6491hc0brc4i.apps.googleusercontent.com&redirect_uri=urn%3Aietf%3Awg%3Aoauth%3A2.0%3Aoob&scope=email%20https%3A%2F%2Fwww.googleapis.com%2Fauth%2Fdocs.test%20https%3A%2F%2Fwww.googleapis.com%2Fauth%2Fdrive%20https%3A%2F%2Fwww.googleapis.com%2Fauth%2Fdrive.photos.readonly%20https%3A%2F%2Fwww.googleapis.com%2Fauth%2Fpeopleapi.readonly&response_type=code\n",
            "\n",
            "Enter your authorization code:\n",
            "··········\n",
            "Mounted at /content/gdrive/\n"
          ],
          "name": "stdout"
        }
      ]
    },
    {
      "cell_type": "code",
      "metadata": {
        "id": "_CR-No-ss6ky",
        "colab_type": "code",
        "colab": {}
      },
      "source": [
        "!cp -r \"/content/gdrive/My Drive/Colab Notebooks/music-compression/\" ./"
      ],
      "execution_count": 0,
      "outputs": []
    },
    {
      "cell_type": "code",
      "metadata": {
        "id": "ZbVCt-xmEtgf",
        "colab_type": "code",
        "outputId": "74deabcf-c175-48f7-de84-cca1f7d7106f",
        "colab": {
          "base_uri": "https://localhost:8080/",
          "height": 34
        }
      },
      "source": [
        "%cd music-compression"
      ],
      "execution_count": 0,
      "outputs": [
        {
          "output_type": "stream",
          "text": [
            "/content/music-compression/music-compression\n"
          ],
          "name": "stdout"
        }
      ]
    },
    {
      "cell_type": "code",
      "metadata": {
        "id": "eH8OMXVRtOWL",
        "colab_type": "code",
        "outputId": "60429e0c-c274-436b-cb6e-7a0dac92f9f0",
        "colab": {
          "base_uri": "https://localhost:8080/",
          "height": 34
        }
      },
      "source": [
        "!pip install pydub"
      ],
      "execution_count": 0,
      "outputs": [
        {
          "output_type": "stream",
          "text": [
            "Requirement already satisfied: pydub in /usr/local/lib/python3.6/dist-packages (0.23.1)\n"
          ],
          "name": "stdout"
        }
      ]
    },
    {
      "cell_type": "code",
      "metadata": {
        "id": "pt1V3r6isoN3",
        "colab_type": "code",
        "outputId": "3909e8f4-8551-411b-b5e2-1602c41ffda5",
        "colab": {
          "base_uri": "https://localhost:8080/",
          "height": 51
        }
      },
      "source": [
        "import torch\n",
        "import numpy as np\n",
        "\n",
        "from runner.train import Trainer\n",
        "\n",
        "# for auto-reloading external modules\n",
        "# see http://stackoverflow.com/questions/1907993/autoreload-of-modules-in-ipython\n",
        "%load_ext autoreload\n",
        "%autoreload 2"
      ],
      "execution_count": 0,
      "outputs": [
        {
          "output_type": "stream",
          "text": [
            "The autoreload extension is already loaded. To reload it, use:\n",
            "  %reload_ext autoreload\n"
          ],
          "name": "stdout"
        }
      ]
    },
    {
      "cell_type": "code",
      "metadata": {
        "id": "_SD2PFG39dj_",
        "colab_type": "code",
        "colab": {}
      },
      "source": [
        "#!rm 'data/sample/fma_xs/train/099134.mp3'"
      ],
      "execution_count": 0,
      "outputs": []
    },
    {
      "cell_type": "code",
      "metadata": {
        "id": "liajTJ_jb8dK",
        "colab_type": "code",
        "colab": {}
      },
      "source": [
        "#from utils.data_helper import stat_all_files\n",
        "#stat_all_files('data/sample/fma_xs/')"
      ],
      "execution_count": 0,
      "outputs": []
    },
    {
      "cell_type": "code",
      "metadata": {
        "id": "P-zoYRHkhzew",
        "colab_type": "code",
        "colab": {}
      },
      "source": [
        "cuda_flag = True"
      ],
      "execution_count": 0,
      "outputs": []
    },
    {
      "cell_type": "code",
      "metadata": {
        "id": "9pk95GjNh1MA",
        "colab_type": "code",
        "colab": {}
      },
      "source": [
        "trainer = Trainer('data/sample/fma_xs/',\n",
        "                  '/content/gdrive/My Drive/Colab Notebooks/music-compression/model_checkpoints/cnn_autoencoder_type7', \n",
        "                  batch_size=200, \n",
        "                  load_from_disk=True, \n",
        "                  cuda=cuda_flag)"
      ],
      "execution_count": 0,
      "outputs": []
    },
    {
      "cell_type": "code",
      "metadata": {
        "colab_type": "code",
        "id": "IlG-dfnbpNjJ",
        "outputId": "b0e271a1-9a25-4157-f48f-80c1df699ad8",
        "colab": {
          "base_uri": "https://localhost:8080/",
          "height": 1000
        }
      },
      "source": [
        "trainer.train(num_epochs=1000)"
      ],
      "execution_count": 0,
      "outputs": [
        {
          "output_type": "stream",
          "text": [
            "Epoch:1, Loss:0.1599\n",
            "Epoch:11, Loss:0.1351\n",
            "Epoch:21, Loss:0.1158\n",
            "Epoch:31, Loss:0.1276\n",
            "Epoch:41, Loss:0.0893\n",
            "Epoch:51, Loss:0.1495\n",
            "Epoch:61, Loss:0.1185\n",
            "Epoch:71, Loss:0.1494\n",
            "Epoch:81, Loss:0.2462\n",
            "Epoch:91, Loss:0.1395\n",
            "Epoch:101, Loss:0.1208\n",
            "Epoch:111, Loss:0.1474\n",
            "Epoch:121, Loss:0.3885\n",
            "Epoch:131, Loss:0.1196\n",
            "Epoch:141, Loss:0.1041\n",
            "Epoch:151, Loss:0.1105\n",
            "Epoch:161, Loss:0.1078\n",
            "Epoch:171, Loss:0.1428\n",
            "Epoch:181, Loss:0.1612\n",
            "Epoch:191, Loss:0.1324\n",
            "Epoch:201, Loss:0.1754\n",
            "Epoch:211, Loss:0.2943\n",
            "Epoch:221, Loss:0.2345\n",
            "Epoch:231, Loss:0.1559\n",
            "Epoch:241, Loss:0.1013\n",
            "Epoch:251, Loss:0.1436\n",
            "Epoch:261, Loss:0.1055\n",
            "Epoch:271, Loss:0.2044\n",
            "Epoch:281, Loss:0.2095\n",
            "Epoch:291, Loss:0.0917\n",
            "Epoch:301, Loss:0.1718\n",
            "Epoch:311, Loss:0.1935\n",
            "Epoch:321, Loss:0.1232\n",
            "Epoch:331, Loss:0.1271\n",
            "Epoch:341, Loss:0.1133\n",
            "Epoch:351, Loss:0.1042\n",
            "Epoch:361, Loss:0.1175\n",
            "Epoch:371, Loss:0.2297\n",
            "Epoch:381, Loss:0.1137\n",
            "Epoch:391, Loss:0.1028\n",
            "Epoch:401, Loss:0.1327\n",
            "Epoch:411, Loss:0.0870\n",
            "Epoch:421, Loss:0.2677\n",
            "Epoch:431, Loss:0.1488\n",
            "Epoch:441, Loss:0.2522\n",
            "Epoch:451, Loss:0.1090\n",
            "Epoch:461, Loss:0.0960\n",
            "Epoch:471, Loss:0.1204\n",
            "Epoch:481, Loss:0.0958\n",
            "Epoch:491, Loss:0.2255\n",
            "Epoch:501, Loss:0.1746\n",
            "Epoch:511, Loss:0.1322\n",
            "Epoch:521, Loss:0.1243\n",
            "Epoch:531, Loss:0.0721\n",
            "Epoch:541, Loss:0.1197\n",
            "Epoch:551, Loss:0.1370\n",
            "Epoch:561, Loss:0.1271\n",
            "Epoch:571, Loss:0.0817\n",
            "Epoch:581, Loss:0.1000\n",
            "Epoch:591, Loss:0.1185\n",
            "Epoch:601, Loss:0.1075\n",
            "Epoch:611, Loss:0.1115\n",
            "Epoch:621, Loss:0.1018\n",
            "Epoch:631, Loss:0.0899\n",
            "Epoch:641, Loss:0.0723\n",
            "Epoch:651, Loss:0.0854\n",
            "Epoch:661, Loss:0.1025\n",
            "Epoch:671, Loss:0.1208\n",
            "Epoch:681, Loss:0.0929\n",
            "Epoch:691, Loss:0.2369\n",
            "Epoch:701, Loss:0.0941\n",
            "Epoch:711, Loss:0.2036\n",
            "Epoch:721, Loss:0.1432\n",
            "Epoch:731, Loss:0.1085\n",
            "Epoch:741, Loss:0.0838\n",
            "Epoch:751, Loss:0.0799\n",
            "Epoch:761, Loss:0.3063\n",
            "Epoch:771, Loss:0.0918\n",
            "Epoch:781, Loss:0.1828\n",
            "Epoch:791, Loss:0.1236\n",
            "Epoch:801, Loss:0.1162\n",
            "Epoch:811, Loss:0.1390\n",
            "Epoch:821, Loss:0.0853\n",
            "Epoch:831, Loss:0.0904\n",
            "Epoch:841, Loss:0.0800\n",
            "Epoch:851, Loss:0.0635\n",
            "Epoch:861, Loss:0.2635\n",
            "Epoch:871, Loss:0.1080\n",
            "Epoch:881, Loss:0.1143\n",
            "Epoch:891, Loss:0.1515\n",
            "Epoch:901, Loss:0.1195\n",
            "Epoch:911, Loss:0.0873\n",
            "Epoch:921, Loss:0.3169\n",
            "Epoch:931, Loss:0.1139\n",
            "Epoch:941, Loss:0.1102\n",
            "Epoch:951, Loss:0.0726\n",
            "Epoch:961, Loss:0.1780\n",
            "Epoch:971, Loss:0.1153\n",
            "Epoch:981, Loss:0.1100\n",
            "Epoch:991, Loss:0.1049\n"
          ],
          "name": "stdout"
        }
      ]
    },
    {
      "cell_type": "code",
      "metadata": {
        "id": "kQ72Sf8Kspkb",
        "colab_type": "code",
        "outputId": "e6e7ccae-7b5e-4f6c-8826-0f6c5c4bf13d",
        "colab": {
          "base_uri": "https://localhost:8080/",
          "height": 514
        }
      },
      "source": [
        "trainer.plot_loss_history(mode='train')\n",
        "trainer.plot_loss_history(mode='test')"
      ],
      "execution_count": 0,
      "outputs": [
        {
          "output_type": "display_data",
          "data": {
            "image/png": "[encoded data removed]",
            "text/plain": [
              "<Figure size 432x288 with 1 Axes>"
            ]
          },
          "metadata": {
            "tags": []
          }
        },
        {
          "output_type": "display_data",
          "data": {
            "image/png": "[encoded data removed]",
            "text/plain": [
              "<Figure size 432x288 with 1 Axes>"
            ]
          },
          "metadata": {
            "tags": []
          }
        }
      ]
    },
    {
      "cell_type": "code",
      "metadata": {
        "id": "AxB4UREN9Gzu",
        "colab_type": "code",
        "colab": {}
      },
      "source": [
        "from runner.compression_test import compress_and_regen"
      ],
      "execution_count": 0,
      "outputs": []
    },
    {
      "cell_type": "code",
      "metadata": {
        "id": "sU8wXS90680S",
        "colab_type": "code",
        "outputId": "9446f5da-0a16-42f4-9c15-226456c37a0a",
        "colab": {
          "base_uri": "https://localhost:8080/",
          "height": 271
        }
      },
      "source": [
        "model = trainer.model\n",
        "model.eval()\n",
        "compress_and_regen('data/sample/fma_xs', \n",
        "                   'test/044778.mp3', \n",
        "                   model, \n",
        "                   '/content/gdrive/My Drive/Colab Notebooks/music-compression/data/sample/fma_xs/model_audio', \n",
        "                   is_cuda=cuda_flag)\n",
        "model.train()"
      ],
      "execution_count": 0,
      "outputs": [
        {
          "output_type": "execute_result",
          "data": {
            "text/plain": [
              "CNNAutoEncoder(\n",
              "  (encoder_model): Sequential(\n",
              "    (conv1): Conv1d(1, 64, kernel_size=(512,), stride=(256,))\n",
              "    (relu1): ReLU(inplace=True)\n",
              "    (conv2): Conv1d(64, 32, kernel_size=(1,), stride=(1,))\n",
              "    (relu2): ReLU(inplace=True)\n",
              "  )\n",
              "  (decoder_model): Sequential(\n",
              "    (convT2): ConvTranspose1d(32, 64, kernel_size=(1,), stride=(1,))\n",
              "    (reluT2): ReLU(inplace=True)\n",
              "    (convT1): ConvTranspose1d(64, 1, kernel_size=(512,), stride=(256,))\n",
              "  )\n",
              "  (loss_criterion_mse): MSELoss()\n",
              "  (loss_criterion_l1): L1Loss()\n",
              ")"
            ]
          },
          "metadata": {
            "tags": []
          },
          "execution_count": 55
        }
      ]
    }
  ]
}