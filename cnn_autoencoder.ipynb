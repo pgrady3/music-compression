{
  "nbformat": 4,
  "nbformat_minor": 0,
  "metadata": {
    "kernelspec": {
      "name": "python3",
      "display_name": "Python 3"
    },
    "language_info": {
      "codemirror_mode": {
        "name": "ipython",
        "version": 3
      },
      "file_extension": ".py",
      "mimetype": "text/x-python",
      "name": "python",
      "nbconvert_exporter": "python",
      "pygments_lexer": "ipython3",
      "version": "3.7.4"
    },
    "latex_envs": {
      "LaTeX_envs_menu_present": true,
      "autoclose": false,
      "autocomplete": true,
      "bibliofile": "biblio.bib",
      "cite_by": "apalike",
      "current_citInitial": 1,
      "eqLabelWithNumbers": true,
      "eqNumInitial": 1,
      "hotkeys": {
        "equation": "Ctrl-E",
        "itemize": "Ctrl-I"
      },
      "labels_anchors": false,
      "latex_user_defs": false,
      "report_style_numbering": false,
      "user_envs_cfg": false
    },
    "toc": {
      "base_numbering": 1,
      "nav_menu": {},
      "number_sections": true,
      "sideBar": true,
      "skip_h1_title": false,
      "title_cell": "Table of Contents",
      "title_sidebar": "Contents",
      "toc_cell": false,
      "toc_position": {},
      "toc_section_display": true,
      "toc_window_display": false
    },
    "colab": {
      "name": "cnn_autoencoder.ipynb",
      "provenance": [],
      "collapsed_sections": [],
      "machine_shape": "hm"
    },
    "accelerator": "GPU"
  },
  "cells": [
    {
      "cell_type": "code",
      "metadata": {
        "id": "0V1HCmGAsth-",
        "colab_type": "code",
        "outputId": "225a5431-7fe3-4759-8887-d6c6d5613889",
        "colab": {
          "base_uri": "https://localhost:8080/",
          "height": 125
        }
      },
      "source": [
        "from google.colab import drive\n",
        "drive.mount('/content/gdrive/')"
      ],
      "execution_count": 1,
      "outputs": [
        {
          "output_type": "stream",
          "text": [
            "Go to this URL in a browser: https://accounts.google.com/o/oauth2/auth?client_id=947318989803-6bn6qk8qdgf4n4g3pfee6491hc0brc4i.apps.googleusercontent.com&redirect_uri=urn%3Aietf%3Awg%3Aoauth%3A2.0%3Aoob&scope=email%20https%3A%2F%2Fwww.googleapis.com%2Fauth%2Fdocs.test%20https%3A%2F%2Fwww.googleapis.com%2Fauth%2Fdrive%20https%3A%2F%2Fwww.googleapis.com%2Fauth%2Fdrive.photos.readonly%20https%3A%2F%2Fwww.googleapis.com%2Fauth%2Fpeopleapi.readonly&response_type=code\n",
            "\n",
            "Enter your authorization code:\n",
            "··········\n",
            "Mounted at /content/gdrive/\n"
          ],
          "name": "stdout"
        }
      ]
    },
    {
      "cell_type": "code",
      "metadata": {
        "id": "_CR-No-ss6ky",
        "colab_type": "code",
        "colab": {}
      },
      "source": [
        "!cp -r \"/content/gdrive/My Drive/Colab Notebooks/music-compression/\" ./"
      ],
      "execution_count": 0,
      "outputs": []
    },
    {
      "cell_type": "code",
      "metadata": {
        "id": "h2CMRbceUgop",
        "colab_type": "code",
        "outputId": "143e29a7-0cde-4b77-be34-dd026b0f5f39",
        "colab": {
          "base_uri": "https://localhost:8080/",
          "height": 338
        }
      },
      "source": [
        "!wget --load-cookies /tmp/cookies.txt \"https://docs.google.com/uc?export=download&confirm=$(wget --quiet --save-cookies /tmp/cookies.txt --keep-session-cookies --no-check-certificate 'https://docs.google.com/uc?export=download&id=1Yn3Gjs2GedY45ZHB5NUZsvVkU8jV3API' -O- | sed -rn 's/.*confirm=([0-9A-Za-z_]+).*/\\1\\n/p')&id=1Yn3Gjs2GedY45ZHB5NUZsvVkU8jV3API\" -O data.zip && rm -rf /tmp/cookies.txt"
      ],
      "execution_count": 3,
      "outputs": [
        {
          "output_type": "stream",
          "text": [
            "--2019-11-14 03:52:21--  https://docs.google.com/uc?export=download&confirm=hkRM&id=1Yn3Gjs2GedY45ZHB5NUZsvVkU8jV3API\n",
            "Resolving docs.google.com (docs.google.com)... 173.194.216.138, 173.194.216.102, 173.194.216.100, ...\n",
            "Connecting to docs.google.com (docs.google.com)|173.194.216.138|:443... connected.\n",
            "HTTP request sent, awaiting response... 302 Moved Temporarily\n",
            "Location: https://doc-0g-4s-docs.googleusercontent.com/docs/securesc/ha0ro937gcuc7l7deffksulhg5h7mbp1/41eicmur3pa1af58pfu3kdofm0ueoks0/1573696800000/00405666016553047732/*/1Yn3Gjs2GedY45ZHB5NUZsvVkU8jV3API?e=download [following]\n",
            "Warning: wildcards not supported in HTTP.\n",
            "--2019-11-14 03:52:21--  https://doc-0g-4s-docs.googleusercontent.com/docs/securesc/ha0ro937gcuc7l7deffksulhg5h7mbp1/41eicmur3pa1af58pfu3kdofm0ueoks0/1573696800000/00405666016553047732/*/1Yn3Gjs2GedY45ZHB5NUZsvVkU8jV3API?e=download\n",
            "Resolving doc-0g-4s-docs.googleusercontent.com (doc-0g-4s-docs.googleusercontent.com)... 172.217.203.132, 2607:f8b0:400c:c07::84\n",
            "Connecting to doc-0g-4s-docs.googleusercontent.com (doc-0g-4s-docs.googleusercontent.com)|172.217.203.132|:443... connected.\n",
            "HTTP request sent, awaiting response... 200 OK\n",
            "Length: unspecified [application/zip]\n",
            "Saving to: ‘data.zip’\n",
            "\n",
            "data.zip                [           <=>      ]   6.92G  72.8MB/s    in 99s     \n",
            "\n",
            "2019-11-14 03:54:01 (71.4 MB/s) - ‘data.zip’ saved [7435666981]\n",
            "\n"
          ],
          "name": "stdout"
        }
      ]
    },
    {
      "cell_type": "code",
      "metadata": {
        "id": "pf9HVt_qUiAv",
        "colab_type": "code",
        "colab": {}
      },
      "source": [
        "!unzip -qq data.zip -d /content/music-compression/data/sample/fma_small/"
      ],
      "execution_count": 0,
      "outputs": []
    },
    {
      "cell_type": "code",
      "metadata": {
        "id": "ZbVCt-xmEtgf",
        "colab_type": "code",
        "outputId": "0fa1f6f5-8a23-4ac6-929e-1d0b3a3914f5",
        "colab": {
          "base_uri": "https://localhost:8080/",
          "height": 35
        }
      },
      "source": [
        "%cd music-compression"
      ],
      "execution_count": 5,
      "outputs": [
        {
          "output_type": "stream",
          "text": [
            "/content/music-compression\n"
          ],
          "name": "stdout"
        }
      ]
    },
    {
      "cell_type": "code",
      "metadata": {
        "id": "xQiK4nFxUlFd",
        "colab_type": "code",
        "colab": {}
      },
      "source": [
        "!rm 'data/sample/fma_small/data/train/108925.mp3'\n",
        "!rm 'data/sample/fma_small/data/train/133297.mp3'\n",
        "!rm 'data/sample/fma_small/data/train/098567.mp3'\n",
        "!rm 'data/sample/fma_small/data/train/099134.mp3'"
      ],
      "execution_count": 0,
      "outputs": []
    },
    {
      "cell_type": "code",
      "metadata": {
        "id": "eH8OMXVRtOWL",
        "colab_type": "code",
        "outputId": "cc6de706-ec3e-4107-9a2c-5602fce55a53",
        "colab": {
          "base_uri": "https://localhost:8080/",
          "height": 108
        }
      },
      "source": [
        "!pip install pydub"
      ],
      "execution_count": 7,
      "outputs": [
        {
          "output_type": "stream",
          "text": [
            "Collecting pydub\n",
            "  Downloading https://files.pythonhosted.org/packages/79/db/eaf620b73a1eec3c8c6f8f5b0b236a50f9da88ad57802154b7ba7664d0b8/pydub-0.23.1-py2.py3-none-any.whl\n",
            "Installing collected packages: pydub\n",
            "Successfully installed pydub-0.23.1\n"
          ],
          "name": "stdout"
        }
      ]
    },
    {
      "cell_type": "code",
      "metadata": {
        "id": "pt1V3r6isoN3",
        "colab_type": "code",
        "colab": {}
      },
      "source": [
        "import torch\n",
        "import numpy as np\n",
        "\n",
        "from runner.train import Trainer\n",
        "\n",
        "# for auto-reloading external modules\n",
        "# see http://stackoverflow.com/questions/1907993/autoreload-of-modules-in-ipython\n",
        "%load_ext autoreload\n",
        "%autoreload 2"
      ],
      "execution_count": 0,
      "outputs": []
    },
    {
      "cell_type": "code",
      "metadata": {
        "id": "_SD2PFG39dj_",
        "colab_type": "code",
        "colab": {}
      },
      "source": [
        "#!rm 'data/sample/fma_xs/train/099134.mp3'"
      ],
      "execution_count": 0,
      "outputs": []
    },
    {
      "cell_type": "code",
      "metadata": {
        "id": "liajTJ_jb8dK",
        "colab_type": "code",
        "colab": {}
      },
      "source": [
        "#from utils.data_helper import stat_all_files\n",
        "#stat_all_files('data/sample/fma_xs/')"
      ],
      "execution_count": 0,
      "outputs": []
    },
    {
      "cell_type": "code",
      "metadata": {
        "id": "P-zoYRHkhzew",
        "colab_type": "code",
        "colab": {}
      },
      "source": [
        "cuda_flag = True"
      ],
      "execution_count": 0,
      "outputs": []
    },
    {
      "cell_type": "code",
      "metadata": {
        "id": "9pk95GjNh1MA",
        "colab_type": "code",
        "outputId": "e260eba8-8ef7-49bf-ba47-916ea24e525d",
        "colab": {
          "base_uri": "https://localhost:8080/",
          "height": 88
        }
      },
      "source": [
        "trainer = Trainer('data/sample/fma_small/data/',\n",
        "                  '/content/gdrive/My Drive/Colab Notebooks/music-compression/model_checkpoints/cnn_autoencoder_type1_big', \n",
        "                  batch_size=200, \n",
        "                  load_from_disk=False, \n",
        "                  cuda=cuda_flag)"
      ],
      "execution_count": 10,
      "outputs": [
        {
          "output_type": "stream",
          "text": [
            "Processing failed for file: data/sample/fma_small/data/test/098565.mp3\n",
            "Insufficient size of mp3 file \n",
            "Processing failed for file: data/sample/fma_small/data/test/098569.mp3\n",
            "Insufficient size of mp3 file \n"
          ],
          "name": "stdout"
        }
      ]
    },
    {
      "cell_type": "code",
      "metadata": {
        "colab_type": "code",
        "id": "IlG-dfnbpNjJ",
        "outputId": "387d529d-4d96-4dd4-b9e0-e1c88bd0e385",
        "colab": {
          "base_uri": "https://localhost:8080/",
          "height": 548
        }
      },
      "source": [
        "trainer.train(num_epochs=150)"
      ],
      "execution_count": 11,
      "outputs": [
        {
          "output_type": "stream",
          "text": [
            "Epoch:1, Loss:1.3354\n",
            "Epoch:6, Loss:1.0079\n",
            "Epoch:11, Loss:0.9616\n",
            "Epoch:16, Loss:0.5708\n",
            "Epoch:21, Loss:0.5171\n",
            "Epoch:26, Loss:0.4815\n",
            "Epoch:31, Loss:0.4796\n",
            "Epoch:36, Loss:0.2965\n",
            "Epoch:41, Loss:0.2785\n",
            "Epoch:46, Loss:0.3062\n",
            "Epoch:51, Loss:0.2167\n",
            "Epoch:56, Loss:0.3732\n",
            "Epoch:61, Loss:0.2785\n",
            "Epoch:66, Loss:0.2843\n",
            "Epoch:71, Loss:0.3764\n",
            "Epoch:76, Loss:0.1912\n",
            "Epoch:81, Loss:0.2326\n",
            "Epoch:86, Loss:0.2356\n",
            "Epoch:91, Loss:0.2307\n",
            "Epoch:96, Loss:0.2522\n",
            "Epoch:101, Loss:0.2593\n",
            "Epoch:106, Loss:0.1842\n",
            "Epoch:111, Loss:0.2285\n",
            "Epoch:116, Loss:0.2101\n",
            "Epoch:121, Loss:0.1722\n",
            "Epoch:126, Loss:0.1548\n",
            "Epoch:131, Loss:0.1445\n",
            "Epoch:136, Loss:0.3496\n",
            "Epoch:141, Loss:0.1801\n",
            "Epoch:146, Loss:0.1218\n"
          ],
          "name": "stdout"
        }
      ]
    },
    {
      "cell_type": "code",
      "metadata": {
        "id": "kQ72Sf8Kspkb",
        "colab_type": "code",
        "outputId": "35f3b553-1d1a-44e4-a79e-6c5b0d2256a5",
        "colab": {
          "base_uri": "https://localhost:8080/",
          "height": 513
        }
      },
      "source": [
        "trainer.plot_loss_history(mode='train')\n",
        "trainer.plot_loss_history(mode='test')"
      ],
      "execution_count": 14,
      "outputs": [
        {
          "output_type": "display_data",
          "data": {
            "image/png": "[encoded data removed]",
            "text/plain": [
              "<Figure size 432x288 with 1 Axes>"
            ]
          },
          "metadata": {
            "tags": []
          }
        },
        {
          "output_type": "display_data",
          "data": {
            "image/png": "[encoded data removed]",
            "text/plain": [
              "<Figure size 432x288 with 1 Axes>"
            ]
          },
          "metadata": {
            "tags": []
          }
        }
      ]
    }
  ]
}