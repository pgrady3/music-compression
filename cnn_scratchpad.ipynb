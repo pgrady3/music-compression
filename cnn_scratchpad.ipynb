{
 "cells": [
  {
   "cell_type": "code",
   "execution_count": 1,
   "metadata": {},
   "outputs": [],
   "source": [
    "import torch\n",
    "import numpy as np\n",
    "\n",
    "from utils.io import read_mp3\n",
    "from models.cnn_autoencoder import CNNAutoEncoder\n",
    "\n",
    "# for auto-reloading external modules\n",
    "# see http://stackoverflow.com/questions/1907993/autoreload-of-modules-in-ipython\n",
    "%load_ext autoreload\n",
    "%autoreload 2"
   ]
  },
  {
   "cell_type": "code",
   "execution_count": null,
   "metadata": {},
   "outputs": [],
   "source": [
    "model = CNNAutoEncoder()\n",
    "\n",
    "  optimizer = torch.optim.Adam(model.parameters(),\n",
    "                               lr=1e-3,\n",
    "                               weight_decay=1e-5)\n",
    "\n",
    "  _, input_data = read_mp3('data/individual_samples/sample1.mp3')\n",
    "\n",
    "  # center the input data\n",
    "  input_data = torch.FloatTensor(input_data[:65536])\n",
    "  input_data = input_data - torch.mean(input_data)\n",
    "  input_data = input_data/torch.std(input_data)\n",
    "\n",
    "  input_data = torch.reshape(input_data, (1, 1, -1))\n",
    "\n",
    "  for epoch in range(100000):\n",
    "\n",
    "    optimizer.zero_grad()\n",
    "    output_data = model.forward(input_data)\n",
    "\n",
    "    loss = model.loss(input_data, output_data)\n",
    "\n",
    "    loss.backward()\n",
    "    optimizer.step()\n",
    "\n",
    "    if epoch % 100 == 0:\n",
    "      print('Epoch:{}, Loss:{:.4f}'.format(epoch+1, float(loss)))"
   ]
  }
 ],
 "metadata": {
  "kernelspec": {
   "display_name": "Python 3",
   "language": "python",
   "name": "python3"
  },
  "language_info": {
   "codemirror_mode": {
    "name": "ipython",
    "version": 3
   },
   "file_extension": ".py",
   "mimetype": "text/x-python",
   "name": "python",
   "nbconvert_exporter": "python",
   "pygments_lexer": "ipython3",
   "version": "3.7.4"
  },
  "latex_envs": {
   "LaTeX_envs_menu_present": true,
   "autoclose": false,
   "autocomplete": true,
   "bibliofile": "biblio.bib",
   "cite_by": "apalike",
   "current_citInitial": 1,
   "eqLabelWithNumbers": true,
   "eqNumInitial": 1,
   "hotkeys": {
    "equation": "Ctrl-E",
    "itemize": "Ctrl-I"
   },
   "labels_anchors": false,
   "latex_user_defs": false,
   "report_style_numbering": false,
   "user_envs_cfg": false
  },
  "toc": {
   "base_numbering": 1,
   "nav_menu": {},
   "number_sections": true,
   "sideBar": true,
   "skip_h1_title": false,
   "title_cell": "Table of Contents",
   "title_sidebar": "Contents",
   "toc_cell": false,
   "toc_position": {},
   "toc_section_display": true,
   "toc_window_display": false
  }
 },
 "nbformat": 4,
 "nbformat_minor": 2
}
