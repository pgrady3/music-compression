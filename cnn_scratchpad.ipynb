{
  "nbformat": 4,
  "nbformat_minor": 0,
  "metadata": {
    "kernelspec": {
      "name": "python3",
      "display_name": "Python 3"
    },
    "language_info": {
      "codemirror_mode": {
        "name": "ipython",
        "version": 3
      },
      "file_extension": ".py",
      "mimetype": "text/x-python",
      "name": "python",
      "nbconvert_exporter": "python",
      "pygments_lexer": "ipython3",
      "version": "3.7.4"
    },
    "latex_envs": {
      "LaTeX_envs_menu_present": true,
      "autoclose": false,
      "autocomplete": true,
      "bibliofile": "biblio.bib",
      "cite_by": "apalike",
      "current_citInitial": 1,
      "eqLabelWithNumbers": true,
      "eqNumInitial": 1,
      "hotkeys": {
        "equation": "Ctrl-E",
        "itemize": "Ctrl-I"
      },
      "labels_anchors": false,
      "latex_user_defs": false,
      "report_style_numbering": false,
      "user_envs_cfg": false
    },
    "toc": {
      "base_numbering": 1,
      "nav_menu": {},
      "number_sections": true,
      "sideBar": true,
      "skip_h1_title": false,
      "title_cell": "Table of Contents",
      "title_sidebar": "Contents",
      "toc_cell": false,
      "toc_position": {},
      "toc_section_display": true,
      "toc_window_display": false
    },
    "colab": {
      "name": "cnn_scratchpad.ipynb",
      "provenance": [],
      "collapsed_sections": []
    },
    "accelerator": "GPU"
  },
  "cells": [
    {
      "cell_type": "code",
      "metadata": {
        "id": "0V1HCmGAsth-",
        "colab_type": "code",
        "outputId": "62c1c706-9bc3-4517-b4d5-436725387c12",
        "colab": {
          "base_uri": "https://localhost:8080/",
          "height": 34
        }
      },
      "source": [
        "from google.colab import drive\n",
        "drive.mount('/content/gdrive/')"
      ],
      "execution_count": 1,
      "outputs": [
        {
          "output_type": "stream",
          "text": [
            "Drive already mounted at /content/gdrive/; to attempt to forcibly remount, call drive.mount(\"/content/gdrive/\", force_remount=True).\n"
          ],
          "name": "stdout"
        }
      ]
    },
    {
      "cell_type": "code",
      "metadata": {
        "id": "_CR-No-ss6ky",
        "colab_type": "code",
        "outputId": "5d307275-0c89-4ae7-bdd5-dd1865946401",
        "colab": {
          "base_uri": "https://localhost:8080/",
          "height": 34
        }
      },
      "source": [
        "%cd \"/content/gdrive/My Drive/Colab Notebooks/music-compression\""
      ],
      "execution_count": 2,
      "outputs": [
        {
          "output_type": "stream",
          "text": [
            "/content/gdrive/My Drive/Colab Notebooks/music-compression\n"
          ],
          "name": "stdout"
        }
      ]
    },
    {
      "cell_type": "code",
      "metadata": {
        "id": "eH8OMXVRtOWL",
        "colab_type": "code",
        "outputId": "35c41552-e29d-48c5-cae1-cde75ec19d01",
        "colab": {
          "base_uri": "https://localhost:8080/",
          "height": 34
        }
      },
      "source": [
        "!pip install pydub"
      ],
      "execution_count": 3,
      "outputs": [
        {
          "output_type": "stream",
          "text": [
            "Requirement already satisfied: pydub in /usr/local/lib/python3.6/dist-packages (0.23.1)\n"
          ],
          "name": "stdout"
        }
      ]
    },
    {
      "cell_type": "code",
      "metadata": {
        "id": "pt1V3r6isoN3",
        "colab_type": "code",
        "colab": {
          "base_uri": "https://localhost:8080/",
          "height": 51
        },
        "outputId": "6de01395-b77b-4902-8aa0-4290120c0326"
      },
      "source": [
        "import torch\n",
        "import numpy as np\n",
        "\n",
        "from utils.io import read_mp3, write_mp3\n",
        "from models.cnn_autoencoder import CNNAutoEncoder\n",
        "\n",
        "from dataset_loader.music_loader import MusicLoader\n",
        "\n",
        "from torch.autograd import Variable\n",
        "\n",
        "# for auto-reloading external modules\n",
        "# see http://stackoverflow.com/questions/1907993/autoreload-of-modules-in-ipython\n",
        "%load_ext autoreload\n",
        "%autoreload 2"
      ],
      "execution_count": 5,
      "outputs": [
        {
          "output_type": "stream",
          "text": [
            "The autoreload extension is already loaded. To reload it, use:\n",
            "  %reload_ext autoreload\n"
          ],
          "name": "stdout"
        }
      ]
    },
    {
      "cell_type": "code",
      "metadata": {
        "id": "P-zoYRHkhzew",
        "colab_type": "code",
        "colab": {}
      },
      "source": [
        "cuda = True"
      ],
      "execution_count": 0,
      "outputs": []
    },
    {
      "cell_type": "code",
      "metadata": {
        "id": "9pk95GjNh1MA",
        "colab_type": "code",
        "colab": {}
      },
      "source": [
        "model = CNNAutoEncoder()\n",
        "\n",
        "if cuda:\n",
        "  model.cuda()"
      ],
      "execution_count": 0,
      "outputs": []
    },
    {
      "cell_type": "code",
      "metadata": {
        "id": "gF9XSd0KsoN9",
        "colab_type": "code",
        "colab": {}
      },
      "source": [
        "kwargs = {'num_workers': 2, 'pin_memory': True} if cuda else {}\n",
        "\n",
        "train_dataset = MusicLoader('data/sample/061/')\n",
        "train_loader = torch.utils.data.DataLoader(train_dataset,batch_size=1000, shuffle=True, **kwargs)"
      ],
      "execution_count": 0,
      "outputs": []
    },
    {
      "cell_type": "code",
      "metadata": {
        "id": "kQ72Sf8Kspkb",
        "colab_type": "code",
        "colab": {}
      },
      "source": [
        "optimizer = torch.optim.Adam(model.parameters(),\n",
        "                              lr=1e-5,\n",
        "                              weight_decay=1e-5)"
      ],
      "execution_count": 0,
      "outputs": []
    },
    {
      "cell_type": "code",
      "metadata": {
        "id": "seNcul3zimKG",
        "colab_type": "code",
        "outputId": "322a5e3f-3bed-45fd-d0b8-56f74507b502",
        "colab": {
          "base_uri": "https://localhost:8080/",
          "height": 68
        }
      },
      "source": [
        "for epoch in range(1000):\n",
        "  for batch_idx, batch in enumerate(train_loader):\n",
        "    inp = Variable(batch)\n",
        "    \n",
        "    if cuda:\n",
        "      inp = inp.cuda()\n",
        "    optimizer.zero_grad()\n",
        "    output_data = model.forward(inp)\n",
        "    loss = model.loss(inp, output_data)\n",
        "    loss.backward()\n",
        "    optimizer.step()\n",
        "  if epoch % 10 == 0:\n",
        "    print('Epoch:{}, Loss:{:.4f}'.format(epoch+1, float(loss)))"
      ],
      "execution_count": 0,
      "outputs": [
        {
          "output_type": "stream",
          "text": [
            "Epoch:1, Loss:303941.6562\n",
            "Epoch:11, Loss:312297.9375\n",
            "Epoch:21, Loss:310992.9062\n"
          ],
          "name": "stdout"
        }
      ]
    },
    {
      "cell_type": "code",
      "metadata": {
        "id": "ziBQ2rdjjupm",
        "colab_type": "code",
        "colab": {
          "base_uri": "https://localhost:8080/",
          "height": 34
        },
        "outputId": "659f8da1-383d-41f9-fdee-dfe8b2fa4a12"
      },
      "source": [
        "print(train_loader.)"
      ],
      "execution_count": 12,
      "outputs": [
        {
          "output_type": "stream",
          "text": [
            "<torch.utils.data.dataloader.DataLoader object at 0x7fc300d98780>\n"
          ],
          "name": "stdout"
        }
      ]
    },
    {
      "cell_type": "code",
      "metadata": {
        "id": "2Ag7EmXz81RG",
        "colab_type": "code",
        "colab": {}
      },
      "source": [
        "from scipy import signal\n",
        "import matplotlib.pyplot as plt"
      ],
      "execution_count": 0,
      "outputs": []
    },
    {
      "cell_type": "code",
      "metadata": {
        "id": "PVi-WedF84WW",
        "colab_type": "code",
        "colab": {}
      },
      "source": [
        "def plot_spectogram(signal):\n",
        "  print(signal)\n",
        "  plt.specgram(signal)"
      ],
      "execution_count": 0,
      "outputs": []
    },
    {
      "cell_type": "code",
      "metadata": {
        "id": "XdHcSaR79BJf",
        "colab_type": "code",
        "colab": {}
      },
      "source": [
        "signal = torch.squeeze(input_data*std_val + mean_val).cpu().data.numpy()\n",
        "plot_spectogram(signal)"
      ],
      "execution_count": 0,
      "outputs": []
    },
    {
      "cell_type": "code",
      "metadata": {
        "id": "z2KZ1f1x-3yU",
        "colab_type": "code",
        "colab": {}
      },
      "source": [
        "plot_spectogram(output_np)"
      ],
      "execution_count": 0,
      "outputs": []
    },
    {
      "cell_type": "code",
      "metadata": {
        "id": "AxB4UREN9Gzu",
        "colab_type": "code",
        "colab": {}
      },
      "source": [
        ""
      ],
      "execution_count": 0,
      "outputs": []
    }
  ]
}